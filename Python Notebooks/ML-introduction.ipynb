{
  "nbformat": 4,
  "nbformat_minor": 0,
  "metadata": {
    "colab": {
      "provenance": []
    },
    "kernelspec": {
      "name": "python3",
      "display_name": "Python 3"
    },
    "language_info": {
      "name": "python"
    }
  },
  "cells": [
    {
      "cell_type": "code",
      "execution_count": 1,
      "metadata": {
        "id": "Mvl3_VMBrx1q"
      },
      "outputs": [],
      "source": [
        "from sklearn import tree"
      ]
    },
    {
      "cell_type": "code",
      "source": [
        "features = [[140, 1], [130, 1], [150, 0], [170, 0]]"
      ],
      "metadata": {
        "id": "Ex5PhrIWsCVy"
      },
      "execution_count": 7,
      "outputs": []
    },
    {
      "cell_type": "code",
      "source": [
        "labels = [\"apple\",\"apple\",\"orange\",\"orange\"]"
      ],
      "metadata": {
        "id": "J7Sk3HvGsq2W"
      },
      "execution_count": 9,
      "outputs": []
    },
    {
      "cell_type": "code",
      "source": [
        "clf = tree.DecisionTreeClassifier()"
      ],
      "metadata": {
        "id": "Ki_C6E2is_7U"
      },
      "execution_count": 10,
      "outputs": []
    },
    {
      "cell_type": "code",
      "source": [
        "clf = clf.fit(features,labels)"
      ],
      "metadata": {
        "id": "RSjpG80ptF84"
      },
      "execution_count": 11,
      "outputs": []
    },
    {
      "cell_type": "code",
      "source": [
        "print(clf.predict([[140,0]]))"
      ],
      "metadata": {
        "colab": {
          "base_uri": "https://localhost:8080/",
          "height": 0
        },
        "id": "lfyMfj_dtIrF",
        "outputId": "3cb276e0-0660-4b0e-d46e-2aab38e9fbd3"
      },
      "execution_count": 13,
      "outputs": [
        {
          "output_type": "stream",
          "name": "stdout",
          "text": [
            "['apple']\n"
          ]
        }
      ]
    },
    {
      "cell_type": "code",
      "source": [
        "features2 = [[1, 15], [1, 25], [0, 32], [1, 40], [0, 12], [0, 14]]"
      ],
      "metadata": {
        "id": "HW_kFkn0tMFM"
      },
      "execution_count": 14,
      "outputs": []
    },
    {
      "cell_type": "code",
      "source": [
        "labels2 = [\"Pokemon Go\", \"WhatsApp\", \"Snap Chat\", \"WhatsApp\", \"Pokemon Go\", \"Pokemon Go\"]"
      ],
      "metadata": {
        "id": "eU5H76b4vA49"
      },
      "execution_count": 16,
      "outputs": []
    },
    {
      "cell_type": "code",
      "source": [
        "clf2 = tree.DecisionTreeClassifier()"
      ],
      "metadata": {
        "id": "HuqKHLrovHeV"
      },
      "execution_count": 17,
      "outputs": []
    },
    {
      "cell_type": "code",
      "source": [
        "clf2 = clf2.fit(features2,labels2)"
      ],
      "metadata": {
        "id": "nMboYMD3vSea"
      },
      "execution_count": 18,
      "outputs": []
    },
    {
      "cell_type": "code",
      "source": [
        "print(clf2.predict([[0, 21]]))"
      ],
      "metadata": {
        "colab": {
          "base_uri": "https://localhost:8080/"
        },
        "id": "s5cFpaoPvVfG",
        "outputId": "7b67754a-c8c5-43c5-a9a7-8b4e5931e7ed"
      },
      "execution_count": 21,
      "outputs": [
        {
          "output_type": "stream",
          "name": "stdout",
          "text": [
            "['Snap Chat']\n"
          ]
        }
      ]
    },
    {
      "cell_type": "code",
      "source": [
        "print(clf2.predict([[1, 19]]))"
      ],
      "metadata": {
        "colab": {
          "base_uri": "https://localhost:8080/"
        },
        "id": "6qKiof2SvbDS",
        "outputId": "69183257-0495-4752-e15f-d46e8c124658"
      },
      "execution_count": 23,
      "outputs": [
        {
          "output_type": "stream",
          "name": "stdout",
          "text": [
            "['Pokemon Go']\n"
          ]
        }
      ]
    },
    {
      "cell_type": "code",
      "source": [],
      "metadata": {
        "id": "oXEz9jOhvtvs"
      },
      "execution_count": null,
      "outputs": []
    }
  ]
}